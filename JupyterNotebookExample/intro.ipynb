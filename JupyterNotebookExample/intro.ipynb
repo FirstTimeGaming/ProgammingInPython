{
 "cells": [
  {
   "cell_type": "code",
   "execution_count": 4,
   "id": "65eea8d3",
   "metadata": {},
   "outputs": [
    {
     "name": "stdout",
     "output_type": "stream",
     "text": [
      "Test print\n",
      "At the cords (10, 12)\n"
     ]
    }
   ],
   "source": [
    "# Test\n",
    "print(\"Test print\")\n",
    "\n",
    "x: int = 10\n",
    "y: int = 12\n",
    "\n",
    "print(f\"At the cords ({x}, {y})\")"
   ]
  }
 ],
 "metadata": {
  "kernelspec": {
   "display_name": ".venv",
   "language": "python",
   "name": "python3"
  },
  "language_info": {
   "codemirror_mode": {
    "name": "ipython",
    "version": 3
   },
   "file_extension": ".py",
   "mimetype": "text/x-python",
   "name": "python",
   "nbconvert_exporter": "python",
   "pygments_lexer": "ipython3",
   "version": "3.12.3"
  }
 },
 "nbformat": 4,
 "nbformat_minor": 5
}
